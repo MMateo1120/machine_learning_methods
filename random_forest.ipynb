{
 "cells": [
  {
   "cell_type": "markdown",
   "metadata": {},
   "source": [
    "## Random forest\n",
    "\n",
    "Random forest is a statistical method used to build a classification model. With this model, one can describe how the values of the target variable is obtained based on the values of the feature variables. Random forest is an ensemble model, which means that is actually built up by numerous base models, and the predicted values are obtained considering prediction from each base model. In this case the base models are decision trees. Each tree is built using random sampling (with replacement) from the sample, and using randomly selected features. \n",
    "\n",
    "In the following, the 'Heart Failure Prediction Dataset' is used from kaggle.com : https://www.kaggle.com/datasets/fedesoriano/heart-failure-prediction\n",
    "\n",
    "The aim is to describe and predict occurrence of heart failure (=target variable) based on different attributes of the person (=features). \n",
    "\n",
    "**The following is included in this project** (https://nbviewer.org/github/MMateo1120/machine_learning_methods/blob/main/random_forest.ipynb):\n",
    "\n",
    "In [Data preparation](#section1) we will check the dataset for missing values, check the distributions of the variables, and transform variables.\n",
    "\n",
    "In [Data evaluation I.](#section2) we will investigate the performance of the random forest model **without** hyperparameters tuning. The performance indicator is the predictive accuracy of **repeated hold-out test sets**.\n",
    "\n",
    "In [Data evaluation II.](#section3) we will investigate the performance of the random forest model **with** hyperparameters tuning. The **k-fold cross-validation** method is used. While this method is appropriate for tuning the hyperparameters, its performance indicator is overoptimistic. \n",
    "\n",
    "In [Data evaluation III.](#section4) we will investigate the performance of a decision tree model **with** hyperparameters tuning. The **nested cross-validation** design is used to see the general performance of the model building on our dataset, and use the \"best\" hyperparameter settings as candidate settings in a (repeated) cross-validation to tune the final model. Also, we perform selection of the relevant independent variables, thus reduce the number of required variables to fit a suitable model.\n"
   ]
  },
  {
   "cell_type": "markdown",
   "metadata": {},
   "source": [
    "<a id='section1'></a>\n",
    "\n",
    "### <ins>Data preparation<ins> \n",
    "The details of data preparation can be found at [main/decision_tree.ipynb](https://github.com/MMateo1120/machine_learning_methods/blob/main/decision_tree.ipynb), here only the code is provided:"
   ]
  },
  {
   "cell_type": "markdown",
   "metadata": {},
   "source": [
    "<a id='asd'></a>\n",
    "### <ins>Data preparation<ins> \n",
    "The details of data preparation can be found at [main/decision_tree.ipynb](https://github.com/MMateo1120/machine_learning_methods/blob/main/decision_tree.ipynb), here only the code is provided:"
   ]
  },
  {
   "cell_type": "code",
   "execution_count": 1,
   "metadata": {},
   "outputs": [],
   "source": [
    "import pandas as pd\n",
    "import matplotlib.pyplot as plt\n",
    "from sklearn.preprocessing import OneHotEncoder\n",
    "\n",
    "data = pd.read_csv(\n",
    "    \"https://raw.githubusercontent.com/MMateo1120/machine_learning_methods/refs/heads/main/heart.csv\"\n",
    ")\n",
    "\n",
    "features = data.columns[:-1]\n",
    "target = data.columns[-1]\n",
    "\n",
    "X = data[features]\n",
    "y = data[target].to_frame()\n",
    "\n",
    "# drop rows where cholesterol is outlier:\n",
    "y = y.loc[X[\"Cholesterol\"] > 0].reset_index(drop=True)\n",
    "X = X.loc[X[\"Cholesterol\"] > 0].reindex().reset_index(drop=True)\n",
    "\n",
    "# finding features that are categorical based on the coding of their values:\n",
    "categorical = []\n",
    "for column in X.columns:\n",
    "    if isinstance(X[column][0], str):\n",
    "        categorical.append(column)\n",
    "        \n",
    "# transformation of categorical features:\n",
    "X[\"Sex\"] = X[\"Sex\"].map({\"M\": 0, \"F\": 1})\n",
    "X[\"ExerciseAngina\"] = X[\"ExerciseAngina\"].map({\"N\": 0, \"Y\": 1})\n",
    "\n",
    "categorical.remove(\"Sex\")\n",
    "categorical.remove(\"ExerciseAngina\")\n",
    "\n",
    "onehot_encoder = OneHotEncoder(sparse_output=False)\n",
    "\n",
    "for column in categorical:\n",
    "    wide = onehot_encoder.fit_transform(X[column].to_frame())\n",
    "    wide_df = pd.DataFrame(\n",
    "        wide, columns=onehot_encoder.get_feature_names_out([column])\n",
    "    )\n",
    "    X = X.drop(columns=column)\n",
    "    X = pd.concat([X, wide_df], axis=1)\n",
    "    \n",
    "# y is required to be an array:\n",
    "y = y.iloc[:,0]"
   ]
  },
  {
   "cell_type": "markdown",
   "metadata": {},
   "source": [
    "<br/>   <a id='section2'></a>\n",
    "\n",
    "### <ins>Data evaluation I. : Fitting random forest without tuning the hyperparameters"
   ]
  },
  {
   "cell_type": "markdown",
   "metadata": {},
   "source": [
    "Generally random forest models are less prune to overfit, and thus may be efficient even without hyperparameter tuning in prediction of unseen datasets. Let's check how well untuned models can predict test sets:"
   ]
  },
  {
   "cell_type": "code",
   "execution_count": 2,
   "metadata": {},
   "outputs": [],
   "source": [
    "from sklearn.ensemble import RandomForestClassifier\n",
    "import numpy as np\n",
    "from sklearn.model_selection import train_test_split\n",
    "from sklearn.metrics import accuracy_score\n",
    "\n",
    "scores = []\n",
    "\n",
    "np.random.seed(111)\n",
    "\n",
    "for _ in range(100):\n",
    "    X_train, X_test, y_train, y_test = train_test_split(X, y, test_size=0.2)\n",
    "\n",
    "    clf = RandomForestClassifier(random_state=111)\n",
    "    clf.fit(X_train, y_train)\n",
    "    y_pred = clf.predict(X_test)\n",
    "    scores.append(accuracy_score(y_test, y_pred))"
   ]
  },
  {
   "cell_type": "markdown",
   "metadata": {},
   "source": [
    "The distribution of the predictive accuracy of unseen test sets:"
   ]
  },
  {
   "cell_type": "code",
   "execution_count": 3,
   "metadata": {},
   "outputs": [
    {
     "data": {
      "text/plain": [
       "(array([ 1.,  1.,  6.,  8., 10., 18., 18., 21., 14.,  3.]),\n",
       " array([0.78666667, 0.8       , 0.81333333, 0.82666667, 0.84      ,\n",
       "        0.85333333, 0.86666667, 0.88      , 0.89333333, 0.90666667,\n",
       "        0.92      ]),\n",
       " <BarContainer object of 10 artists>)"
      ]
     },
     "execution_count": 3,
     "metadata": {},
     "output_type": "execute_result"
    },
    {
     "data": {
      "image/png": "[encoded data removed]",
      "text/plain": [
       "<Figure size 640x480 with 1 Axes>"
      ]
     },
     "metadata": {},
     "output_type": "display_data"
    }
   ],
   "source": [
    "plt.hist(scores)"
   ]
  },
  {
   "cell_type": "markdown",
   "metadata": {},
   "source": [
    "The statsitics of the predictive accuracy for unseen test sets:"
   ]
  },
  {
   "cell_type": "code",
   "execution_count": 4,
   "metadata": {},
   "outputs": [
    {
     "name": "stdout",
     "output_type": "stream",
     "text": [
      "The mean accuracy: 0.8656\n",
      "The standard deviation: 0.02674521764104131\n"
     ]
    }
   ],
   "source": [
    "print(f\"The mean accuracy: {np.mean(scores)}\"\n",
    "      + \"\\n\"\n",
    "      + f\"The standard deviation: {np.std(scores)}\")"
   ]
  },
  {
   "cell_type": "markdown",
   "metadata": {},
   "source": [
    "The untuned random forest model performs better than a single decision tree, which had mean predictive accuracy of 0.83."
   ]
  },
  {
   "cell_type": "markdown",
   "metadata": {},
   "source": [
    "<br/>   <a id='section3'></a>\n",
    "\n",
    "### <ins>Data evaluation II. : Tuning hyperparameters using repeated cross-validation"
   ]
  },
  {
   "cell_type": "markdown",
   "metadata": {},
   "source": [
    "Now let's tune the hyperparameters of the model using 5-times repeated cross-validation with 5 folds:"
   ]
  },
  {
   "cell_type": "code",
   "execution_count": 11,
   "metadata": {},
   "outputs": [
    {
     "name": "stdout",
     "output_type": "stream",
     "text": [
      "The best hyperparameters are: {'max_depth': 20, 'max_features': 'sqrt', 'min_samples_leaf': 2, 'n_estimators': 500}\n",
      "The best score is: 0.8691668903803133\n"
     ]
    }
   ],
   "source": [
    "from sklearn.model_selection import RepeatedKFold\n",
    "from sklearn.model_selection import GridSearchCV\n",
    "\n",
    "# suppress warnings from numpy:\n",
    "np.seterr(all=\"ignore\")\n",
    "\n",
    "param_grid = {\n",
    "    \"n_estimators\": [50, 100, 300, 500],\n",
    "    \"max_features\": [\"sqrt\", None],\n",
    "    \"max_depth\": [3, 5, 10, 20],\n",
    "    \"min_samples_leaf\": [1, 2, 4, 10],\n",
    "}\n",
    "\n",
    "clf = RandomForestClassifier(random_state=111)\n",
    "cv = RepeatedKFold(n_repeats=5, n_splits=5, random_state=111)\n",
    "\n",
    "grid_search = GridSearchCV(\n",
    "    estimator=clf, param_grid=param_grid, cv=cv, n_jobs=-1, \n",
    ")\n",
    "\n",
    "grid_search.fit(X, y)\n",
    "print(f\"The best hyperparameters are: {grid_search.best_params_}\")\n",
    "print(f\"The best score is: {grid_search.best_score_}\")"
   ]
  },
  {
   "cell_type": "markdown",
   "metadata": {},
   "source": [
    "Let's use these hyperparameters and see the distribution of the predictive accuracy when different part of the dataset is used as test sets:"
   ]
  },
  {
   "cell_type": "code",
   "execution_count": null,
   "metadata": {},
   "outputs": [
    {
     "data": {
      "text/plain": [
       "(array([ 1.,  1.,  1.,  4., 16., 26., 22., 17., 10.,  2.]),\n",
       " array([0.76      , 0.77666667, 0.79333333, 0.81      , 0.82666667,\n",
       "        0.84333333, 0.86      , 0.87666667, 0.89333333, 0.91      ,\n",
       "        0.92666667]),\n",
       " <BarContainer object of 10 artists>)"
      ]
     },
     "execution_count": 14,
     "metadata": {},
     "output_type": "execute_result"
    },
    {
     "data": {
      "image/png": "[encoded data removed]",
      "text/plain": [
       "<Figure size 640x480 with 1 Axes>"
      ]
     },
     "metadata": {},
     "output_type": "display_data"
    }
   ],
   "source": [
    "scores = []\n",
    "\n",
    "clf = RandomForestClassifier(random_state=111, max_depth=20, max_features='sqrt',n_estimators=500, min_samples_leaf=2)\n",
    "\n",
    "for _ in range(100):\n",
    "    X_train, X_test, y_train, y_test = train_test_split(X, y, test_size=0.2)\n",
    "\n",
    "    \n",
    "    clf.fit(X_train, y_train)\n",
    "    y_pred = clf.predict(X_test)\n",
    "    scores.append(accuracy_score(y_test, y_pred))\n",
    "\n",
    "plt.hist(scores)"
   ]
  },
  {
   "cell_type": "markdown",
   "metadata": {},
   "source": [
    "The statsitics of the predictive accuracy for the test sets in cross-validation:"
   ]
  },
  {
   "cell_type": "code",
   "execution_count": 15,
   "metadata": {},
   "outputs": [
    {
     "name": "stdout",
     "output_type": "stream",
     "text": [
      "The mean accuracy: 0.8600666666666666\n",
      "The standard deviation: 0.027121045538679205\n"
     ]
    }
   ],
   "source": [
    "print(f\"The mean accuracy: {np.mean(scores)}\"\n",
    "      + \"\\n\"\n",
    "      + f\"The standard deviation: {np.std(scores)}\")"
   ]
  },
  {
   "cell_type": "markdown",
   "metadata": {},
   "source": [
    "We obtained practically the same accuracy as with the untuned random forrest model. "
   ]
  },
  {
   "cell_type": "markdown",
   "metadata": {},
   "source": [
    "<br/>   <a id='section4'></a>\n",
    "\n",
    "### <ins>Data evaluation III. : Checking the uncertainity introduced by both the training process and test set prediction using repeated nested cross-validation"
   ]
  },
  {
   "cell_type": "markdown",
   "metadata": {},
   "source": [
    "The model obtained through repeated cross-validation may be considered as the final model. However, we should investigate the uncertainity caused by the hyperparameters tuning process and the testing on different test sets. For that we can use repeated nested cross-validation. To get the picture about the uncertainity of the tuning process we are using repeated cross-validation in the inner loop, and repeated cross-validation in the outer loop to see the uncertainity caused by different train-test splits."
   ]
  },
  {
   "cell_type": "code",
   "execution_count": 19,
   "metadata": {},
   "outputs": [],
   "source": [
    "from sklearn.metrics import accuracy_score\n",
    "\n",
    "param_grid = {\n",
    "    \"n_estimators\": [100, 300, 500],\n",
    "    \"max_features\": [\"sqrt\", None],\n",
    "    \"max_depth\": [10, 20],\n",
    "    \"min_samples_leaf\": [1, 2, 4, 10],\n",
    "}\n",
    "\n",
    "best_params = []\n",
    "best_pred_scores = []\n",
    "\n",
    "outer_cv = RepeatedKFold(n_repeats=3, n_splits=5, random_state=111)\n",
    "inner_cv = RepeatedKFold(n_repeats=2, n_splits=3, random_state=111)\n",
    "\n",
    "for train, test in outer_cv.split(X, y):\n",
    "    X_train, y_train = X.iloc[train, :], y[train]\n",
    "    X_test, y_test = X.iloc[test, :], y[test]\n",
    "    clf = RandomForestClassifier(random_state=111)\n",
    "    grid_search = GridSearchCV(\n",
    "    estimator=clf, param_grid=param_grid, cv=inner_cv, n_jobs=-1\n",
    "    )\n",
    "    grid_search.fit(X_train, y_train)\n",
    "    clf_fin = grid_search.best_estimator_\n",
    "    clf_fin.fit(X_train, y_train)\n",
    "    y_test_pred = clf_fin.predict(X_test)\n",
    "    best_pred_scores.append(accuracy_score(y_test, y_test_pred))\n",
    "    best_params.append(grid_search.best_estimator_.get_params())"
   ]
  },
  {
   "cell_type": "markdown",
   "metadata": {},
   "source": [
    "The statsitics of the predictive accuracy for unseen test sets:"
   ]
  },
  {
   "cell_type": "code",
   "execution_count": 20,
   "metadata": {},
   "outputs": [
    {
     "name": "stdout",
     "output_type": "stream",
     "text": [
      "Mean is 0.8619179716629382\n",
      "Standard deviation is 0.01771475247750567\n"
     ]
    }
   ],
   "source": [
    "print(\n",
    "    f\"Mean is {np.mean(best_pred_scores)}\"\n",
    "    + \"\\n\"\n",
    "    + f\"Standard deviation is {np.std(best_pred_scores)}\"\n",
    ")"
   ]
  },
  {
   "cell_type": "markdown",
   "metadata": {},
   "source": [
    "The uncertainity is quite small which implies, that the model building method including the data splitting and the selection of the \"best model\" in each split is robust and the differences between the power of the found best models are negligible. "
   ]
  },
  {
   "cell_type": "markdown",
   "metadata": {},
   "source": [
    "The frequency of the found \"best\" hyperparameter sets:"
   ]
  },
  {
   "cell_type": "code",
   "execution_count": 57,
   "metadata": {},
   "outputs": [
    {
     "data": {
      "text/plain": [
       "n_estimators  max_features  max_depth  min_samples_leaf\n",
       "500           sqrt          10         1                   4\n",
       "300           sqrt          20         1                   2\n",
       "100           sqrt          10         10                  1\n",
       "                            20         2                   1\n",
       "                                       1                   1\n",
       "300           sqrt          10         4                   1\n",
       "                                       2                   1\n",
       "                            20         2                   1\n",
       "500           sqrt          10         10                  1\n",
       "                            20         1                   1\n",
       "                                       2                   1\n",
       "Name: count, dtype: int64"
      ]
     },
     "execution_count": 57,
     "metadata": {},
     "output_type": "execute_result"
    }
   ],
   "source": [
    "best_params_list = []\n",
    "for set in best_params:\n",
    "    best_params_list.append([set.get(key) for key in [\"n_estimators\", \"max_features\",\"max_depth\",\"min_samples_leaf\"]])\n",
    "pd.DataFrame(best_params_list, columns=[\"n_estimators\", \"max_features\",\"max_depth\",\"min_samples_leaf\"]).value_counts()"
   ]
  },
  {
   "cell_type": "markdown",
   "metadata": {},
   "source": [
    "The nested cross-validation showed that the uncertainity of the training process is sufficiently small, and models with godd predictive accuracy can be obtained during the tuning. The nested cross-validation found most frequently the settings of n_estimators = 500, max_features = 'sqrt', max_depth = 10, and min_samples_leaf = 1. "
   ]
  },
  {
   "cell_type": "markdown",
   "metadata": {},
   "source": [
    "Let's find the features that contribute to the classification of the respond the most using the parameter values that are the most frequently found in nested cross validation:"
   ]
  },
  {
   "cell_type": "code",
   "execution_count": 58,
   "metadata": {},
   "outputs": [
    {
     "data": {
      "image/png": "[encoded data removed]",
      "text/plain": [
       "<Figure size 640x480 with 1 Axes>"
      ]
     },
     "metadata": {},
     "output_type": "display_data"
    }
   ],
   "source": [
    "from sklearn.inspection import permutation_importance\n",
    "\n",
    "clf = RandomForestClassifier(random_state=111, max_depth=10, max_features='sqrt', n_estimators=500, min_samples_leaf=1)\n",
    "clf.fit(X,y)\n",
    "result = permutation_importance(\n",
    "    clf, X, y, n_repeats=100, random_state=111, n_jobs=-1\n",
    ")\n",
    "forest_importances = pd.Series(result.importances_mean, index=X.columns).sort_values(ascending=False)\n",
    "fig, ax = plt.subplots()\n",
    "forest_importances.plot.bar(yerr=result.importances_std, ax=ax)\n",
    "ax.set_title(\"Feature importances using permutation on full model\")\n",
    "ax.set_ylabel(\"Mean accuracy decrease\")\n",
    "fig.tight_layout()\n",
    "plt.show()\n"
   ]
  },
  {
   "cell_type": "markdown",
   "metadata": {},
   "source": [
    "Let's use only the first 11 features with the most influence, and see if we can achieve similar predictive accuracy as before using nested cross validation:"
   ]
  },
  {
   "cell_type": "code",
   "execution_count": 75,
   "metadata": {},
   "outputs": [],
   "source": [
    "X_reduced = X[forest_importances[0:11].index]\n",
    "\n",
    "param_grid = {\n",
    "    \"n_estimators\": [100, 300, 500],\n",
    "    \"max_features\": [\"sqrt\", None],\n",
    "    \"max_depth\": [10, 20],\n",
    "    \"min_samples_leaf\": [1, 2, 4, 10],\n",
    "}\n",
    "\n",
    "best_params = []\n",
    "best_pred_scores = []\n",
    "\n",
    "outer_cv = RepeatedKFold(n_repeats=3, n_splits=5, random_state=111)\n",
    "inner_cv = RepeatedKFold(n_repeats=2, n_splits=3, random_state=111)\n",
    "\n",
    "for train, test in outer_cv.split(X_reduced, y):\n",
    "    X_train, y_train = X_reduced.iloc[train, :], y[train]\n",
    "    X_test, y_test = X_reduced.iloc[test, :], y[test]\n",
    "    clf = RandomForestClassifier(random_state=111)\n",
    "    grid_search = GridSearchCV(\n",
    "    estimator=clf, param_grid=param_grid, cv=inner_cv, n_jobs=-1\n",
    "    )\n",
    "    grid_search.fit(X_train, y_train)\n",
    "    clf_fin = grid_search.best_estimator_\n",
    "    clf_fin.fit(X_train, y_train)\n",
    "    y_test_pred = clf_fin.predict(X_test)\n",
    "    best_pred_scores.append(accuracy_score(y_test, y_test_pred))\n",
    "    best_params.append(grid_search.best_estimator_.get_params())"
   ]
  },
  {
   "cell_type": "markdown",
   "metadata": {},
   "source": [
    "The statsitics of the predictive accuracy for unseen test sets:"
   ]
  },
  {
   "cell_type": "code",
   "execution_count": 76,
   "metadata": {},
   "outputs": [
    {
     "name": "stdout",
     "output_type": "stream",
     "text": [
      "Mean is 0.865950782997763\n",
      "Standard deviation is 0.018158339341737873\n"
     ]
    }
   ],
   "source": [
    "print(\n",
    "    f\"Mean is {np.mean(best_pred_scores)}\"\n",
    "    + \"\\n\"\n",
    "    + f\"Standard deviation is {np.std(best_pred_scores)}\"\n",
    ")"
   ]
  },
  {
   "cell_type": "markdown",
   "metadata": {},
   "source": [
    "Similar results are obtained as before, when every feature were used. This suggest, that using only the 11 most influental features does not result in information loss. Let's see the most frequently found parameter settings:"
   ]
  },
  {
   "cell_type": "code",
   "execution_count": 77,
   "metadata": {},
   "outputs": [
    {
     "data": {
      "text/plain": [
       "n_estimators  max_features  max_depth  min_samples_leaf\n",
       "500           sqrt          10         1                   3\n",
       "300           sqrt          20         1                   2\n",
       "500           sqrt          20         1                   2\n",
       "100           sqrt          20         2                   1\n",
       "                            10         10                  1\n",
       "                                       4                   1\n",
       "300           sqrt          10         1                   1\n",
       "                            20         2                   1\n",
       "                            10         2                   1\n",
       "500           sqrt          10         2                   1\n",
       "                            20         2                   1\n",
       "Name: count, dtype: int64"
      ]
     },
     "execution_count": 77,
     "metadata": {},
     "output_type": "execute_result"
    }
   ],
   "source": [
    "best_params_list = []\n",
    "for set in best_params:\n",
    "    best_params_list.append([set.get(key) for key in [\"n_estimators\", \"max_features\",\"max_depth\",\"min_samples_leaf\"]])\n",
    "pd.DataFrame(best_params_list, columns=[\"n_estimators\", \"max_features\",\"max_depth\",\"min_samples_leaf\"]).value_counts()"
   ]
  },
  {
   "cell_type": "markdown",
   "metadata": {},
   "source": [
    "The same hyperparameter settings were found to be the most frequent as before. Let's use this hyperparameter set to find the final predictive power of our model:"
   ]
  },
  {
   "cell_type": "code",
   "execution_count": 78,
   "metadata": {},
   "outputs": [
    {
     "data": {
      "text/plain": [
       "(array([ 1.,  0.,  5., 16., 20., 28., 17.,  6.,  5.,  2.]),\n",
       " array([0.79333333, 0.80733333, 0.82133333, 0.83533333, 0.84933333,\n",
       "        0.86333333, 0.87733333, 0.89133333, 0.90533333, 0.91933333,\n",
       "        0.93333333]),\n",
       " <BarContainer object of 10 artists>)"
      ]
     },
     "execution_count": 78,
     "metadata": {},
     "output_type": "execute_result"
    },
    {
     "data": {
      "image/png": "[encoded data removed]",
      "text/plain": [
       "<Figure size 640x480 with 1 Axes>"
      ]
     },
     "metadata": {},
     "output_type": "display_data"
    }
   ],
   "source": [
    "scores = []\n",
    "\n",
    "clf = RandomForestClassifier(random_state=111, max_depth=20, max_features='sqrt',n_estimators=500, min_samples_leaf=2)\n",
    "\n",
    "for _ in range(100):\n",
    "    X_train, X_test, y_train, y_test = train_test_split(X_reduced, y, test_size=0.2)\n",
    "\n",
    "    \n",
    "    clf.fit(X_train, y_train)\n",
    "    y_pred = clf.predict(X_test)\n",
    "    scores.append(accuracy_score(y_test, y_pred))\n",
    "\n",
    "plt.hist(scores)"
   ]
  },
  {
   "cell_type": "code",
   "execution_count": 79,
   "metadata": {},
   "outputs": [
    {
     "name": "stdout",
     "output_type": "stream",
     "text": [
      "The mean accuracy: 0.8674\n",
      "The standard deviation: 0.022684208898115298\n"
     ]
    }
   ],
   "source": [
    "print(f\"The mean accuracy: {np.mean(scores)}\"\n",
    "      + \"\\n\"\n",
    "      + f\"The standard deviation: {np.std(scores)}\")"
   ]
  },
  {
   "cell_type": "markdown",
   "metadata": {},
   "source": [
    "The model works well both for description and prediction of the data. Although it does not differ from the untuned model regarding its power, we achieved to reduce the number of independent variables required to fit a model with the same power."
   ]
  }
 ],
 "metadata": {
  "kernelspec": {
   "display_name": ".venv",
   "language": "python",
   "name": "python3"
  },
  "language_info": {
   "codemirror_mode": {
    "name": "ipython",
    "version": 3
   },
   "file_extension": ".py",
   "mimetype": "text/x-python",
   "name": "python",
   "nbconvert_exporter": "python",
   "pygments_lexer": "ipython3",
   "version": "3.12.0"
  }
 },
 "nbformat": 4,
 "nbformat_minor": 2
}
